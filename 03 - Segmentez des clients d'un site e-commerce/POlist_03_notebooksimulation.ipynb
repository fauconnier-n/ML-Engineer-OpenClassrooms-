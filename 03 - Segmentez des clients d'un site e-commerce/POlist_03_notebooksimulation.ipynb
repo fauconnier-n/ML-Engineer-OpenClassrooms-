{
  "nbformat": 4,
  "nbformat_minor": 0,
  "metadata": {
    "colab": {
      "name": "POlist_03_notebooksimulation",
      "provenance": [],
      "collapsed_sections": [],
      "toc_visible": true
    },
    "kernelspec": {
      "name": "python3",
      "display_name": "Python 3"
    },
    "language_info": {
      "name": "python"
    }
  },
  "cells": [
    {
      "cell_type": "markdown",
      "source": [
        "# Analyse de la stabilité des segments\n",
        "\n",
        "\n",
        "Ce notebook a pour but de determiner la fréquence de mise-à-jour (réentrainement) du modèle de segmentation testé et choisi dans le notebook précédent: Kmeans (k=5) sur les feartures de segmentation RFM classique, ainsi que la note moyenne laissé par chaque individu.\n",
        "\n",
        "\n",
        "\n",
        "\n",
        "\n",
        "---\n",
        "\n",
        "\n",
        "\n",
        "\n",
        "---\n",
        "\n",
        "\n",
        "\n",
        "\"Bonus\": le code étant facilement réutilisable, j'effectue la démarche pour le second modèle KMeans évoqué dans le notebook précédent (k=7, ajout des features de distance moyenne vendeur-acheteur et nombre de paiement)."
      ],
      "metadata": {
        "id": "iLN3jMCDchbf"
      }
    },
    {
      "cell_type": "code",
      "source": [
        ""
      ],
      "metadata": {
        "id": "Xd2MH34fmsTv"
      },
      "execution_count": null,
      "outputs": []
    },
    {
      "cell_type": "markdown",
      "source": [
        "# Importation des données"
      ],
      "metadata": {
        "id": "Mb1TAAwwMJCj"
      }
    },
    {
      "cell_type": "code",
      "execution_count": null,
      "metadata": {
        "id": "SZBUXIb_9maV",
        "colab": {
          "base_uri": "https://localhost:8080/"
        },
        "outputId": "b42677a5-1c8f-4b0d-e1c6-ab10e083298c"
      },
      "outputs": [
        {
          "output_type": "stream",
          "name": "stdout",
          "text": [
            "Mounted at /content/drive\n"
          ]
        }
      ],
      "source": [
        "# Connecte le notebook Colab à Google Drive\n",
        "from google.colab import drive\n",
        "drive.mount('/content/drive')"
      ]
    },
    {
      "cell_type": "code",
      "source": [
        "# Import de librairies\n",
        "import numpy as np\n",
        "import pandas as pd\n",
        "import matplotlib.pyplot as plt\n",
        "import seaborn as sns\n",
        "\n",
        "from sklearn.preprocessing import StandardScaler\n",
        "from sklearn.cluster import KMeans\n",
        "from sklearn.metrics.cluster import adjusted_rand_score, rand_score\n",
        "\n",
        "!pip install yellowbrick\n",
        "from yellowbrick.cluster import KElbowVisualizer, SilhouetteVisualizer, InterclusterDistance,\n"
      ],
      "metadata": {
        "id": "NiPSVTZS_cJf",
        "colab": {
          "base_uri": "https://localhost:8080/"
        },
        "outputId": "f05c12dd-5ab7-4e14-84bd-76afe4814278"
      },
      "execution_count": null,
      "outputs": [
        {
          "output_type": "stream",
          "name": "stdout",
          "text": [
            "Requirement already satisfied: yellowbrick in /usr/local/lib/python3.7/dist-packages (1.4)\n",
            "Requirement already satisfied: numpy>=1.16.0 in /usr/local/lib/python3.7/dist-packages (from yellowbrick) (1.21.5)\n",
            "Requirement already satisfied: cycler>=0.10.0 in /usr/local/lib/python3.7/dist-packages (from yellowbrick) (0.11.0)\n",
            "Requirement already satisfied: scikit-learn>=1.0.0 in /usr/local/lib/python3.7/dist-packages (from yellowbrick) (1.0.2)\n",
            "Requirement already satisfied: scipy>=1.0.0 in /usr/local/lib/python3.7/dist-packages (from yellowbrick) (1.4.1)\n",
            "Requirement already satisfied: matplotlib!=3.0.0,>=2.0.2 in /usr/local/lib/python3.7/dist-packages (from yellowbrick) (3.2.2)\n",
            "Requirement already satisfied: python-dateutil>=2.1 in /usr/local/lib/python3.7/dist-packages (from matplotlib!=3.0.0,>=2.0.2->yellowbrick) (2.8.2)\n",
            "Requirement already satisfied: pyparsing!=2.0.4,!=2.1.2,!=2.1.6,>=2.0.1 in /usr/local/lib/python3.7/dist-packages (from matplotlib!=3.0.0,>=2.0.2->yellowbrick) (3.0.7)\n",
            "Requirement already satisfied: kiwisolver>=1.0.1 in /usr/local/lib/python3.7/dist-packages (from matplotlib!=3.0.0,>=2.0.2->yellowbrick) (1.3.2)\n",
            "Requirement already satisfied: six>=1.5 in /usr/local/lib/python3.7/dist-packages (from python-dateutil>=2.1->matplotlib!=3.0.0,>=2.0.2->yellowbrick) (1.15.0)\n",
            "Requirement already satisfied: threadpoolctl>=2.0.0 in /usr/local/lib/python3.7/dist-packages (from scikit-learn>=1.0.0->yellowbrick) (3.1.0)\n",
            "Requirement already satisfied: joblib>=0.11 in /usr/local/lib/python3.7/dist-packages (from scikit-learn>=1.0.0->yellowbrick) (1.1.0)\n"
          ]
        }
      ]
    },
    {
      "cell_type": "code",
      "source": [
        "# Chargement du dataset\n",
        "df = pd.read_csv('drive/MyDrive/POlist/df.csv')\n"
      ],
      "metadata": {
        "id": "HCumojK7CUss"
      },
      "execution_count": null,
      "outputs": []
    },
    {
      "cell_type": "code",
      "source": [
        "# Fonction d'aggrégation du dataset par individu\n",
        "def dataset_aggregate(df, start_date, end_date):\n",
        "    \"\"\"\n",
        "    Agrège le DataFrame au customer entre les dates de commandes renseignées.\n",
        "    Retourne l'id du customer et plusieurs variables agrègées.\n",
        "\n",
        "    Args:\n",
        "    - df: DataFrame à agrèger\n",
        "    - start_date: filtre les commandes passées avant la date\n",
        "    - end_date: filtre les commandes passées après la date\n",
        "\n",
        "    Output: DataFrame agrègé au customer\n",
        "    \"\"\"\n",
        "\n",
        "    # convertit les arguments en dates\n",
        "    start_date = pd.to_datetime(start_date)\n",
        "    end_date = pd.to_datetime(end_date)\n",
        "\n",
        "    # Filtre le dataset sur les dates\n",
        "    df = df[\n",
        "        (df[\"order_purchase_timestamp\"] >= start_date)\n",
        "        & (df[\"order_purchase_timestamp\"] <= end_date)\n",
        "    ]\n",
        "\n",
        "    # Calcul des features agrègées\n",
        "    df_agg = df.groupby([\"customer_unique_id\"], as_index=False, sort=False).agg(\n",
        "        last_order=pd.NamedAgg(column=\"order_purchase_timestamp\", aggfunc=\"max\"),\n",
        "        first_order=pd.NamedAgg(column=\"order_purchase_timestamp\", aggfunc=\"min\"),\n",
        "        number_orders=pd.NamedAgg(column=\"order_id\", aggfunc=\"nunique\"),\n",
        "        total_amount=pd.NamedAgg(column=\"payment_value\", aggfunc=\"sum\"),\n",
        "        average_cart=pd.NamedAgg(column=\"payment_value\", aggfunc=\"mean\"),\n",
        "        average_price=pd.NamedAgg(column=\"price\", aggfunc=\"mean\"),\n",
        "        average_qty=pd.NamedAgg(column=\"order_item_id\", aggfunc=\"mean\"),\n",
        "        average_review_score=pd.NamedAgg(column=\"review_score\", aggfunc=\"mean\"),\n",
        "        number_reviews=pd.NamedAgg(column=\"review_comment_message\", aggfunc=\"count\"),\n",
        "        average_payment_sequential=pd.NamedAgg(\n",
        "            column=\"payment_sequential\", aggfunc=\"mean\"\n",
        "        ),\n",
        "        average_payment_installments=pd.NamedAgg(\n",
        "            column=\"payment_installments\", aggfunc=\"mean\"\n",
        "        ),\n",
        "        average_freight_value=pd.NamedAgg(column=\"freight_value\", aggfunc=\"mean\"),\n",
        "        average_product_weight_g=pd.NamedAgg(column=\"product_weight_g\", aggfunc=\"mean\"),\n",
        "        average_product_length_cm=pd.NamedAgg(\n",
        "            column=\"product_length_cm\", aggfunc=\"mean\"\n",
        "        ),\n",
        "        average_product_height_cm=pd.NamedAgg(\n",
        "            column=\"product_height_cm\", aggfunc=\"mean\"\n",
        "        ),\n",
        "        average_product_width_cm=pd.NamedAgg(column=\"product_width_cm\", aggfunc=\"mean\"),\n",
        "        average_distance=pd.NamedAgg(column=\"distance_km\", aggfunc=\"mean\"),\n",
        "        customer_state=pd.NamedAgg(\n",
        "            column=\"customer_state\",\n",
        "            aggfunc=lambda x: np.nan if x.isnull().all() else x.value_counts().index[0],\n",
        "        ),\n",
        "        order_different_state=pd.NamedAgg(\n",
        "            column=\"order_different_state\",\n",
        "            aggfunc=lambda x: \"yes\" if x.sum() > 0 else \"no\",\n",
        "        ),\n",
        "        first_payment_type=pd.NamedAgg(\n",
        "            column=\"payment_type\",\n",
        "            aggfunc=lambda x: np.nan if x.isnull().all() else x.value_counts().index[0],\n",
        "        ),\n",
        "        first_product_category=pd.NamedAgg(\n",
        "            column=\"product_category_name_english\",\n",
        "            aggfunc=lambda x: np.nan if x.isnull().all() else x.value_counts().index[0],\n",
        "        ),\n",
        "        average_product_name_lenght=pd.NamedAgg(\n",
        "            column=\"product_name_lenght\", aggfunc=\"mean\"\n",
        "        ),\n",
        "        average_product_description_lenght=pd.NamedAgg(\n",
        "            column=\"product_description_lenght\", aggfunc=\"mean\"\n",
        "        ),\n",
        "        average_review_lenght=pd.NamedAgg(\n",
        "            column=\"review_comment_message\", aggfunc=lambda x: np.mean(x.str.len())\n",
        "        ),\n",
        "        average_product_photos_qty=pd.NamedAgg(\n",
        "            column=\"product_photos_qty\", aggfunc=\"mean\"\n",
        "        ),\n",
        "    )\n",
        "\n",
        "    # Nombre de jours depuis la dernière commande\n",
        "    df_agg[\"days_since_last_order\"] = end_date - df_agg[\"last_order\"]\n",
        "    df_agg[\"days_since_last_order\"] = pd.to_numeric(\n",
        "        df_agg[\"days_since_last_order\"].dt.days, downcast=\"integer\"\n",
        "    )\n",
        "\n",
        "    # Taux de review\n",
        "    df_agg[\"review_rate\"] = df_agg[\"number_reviews\"] / df_agg[\"number_orders\"]\n",
        "\n",
        "    return df_agg"
      ],
      "metadata": {
        "id": "99CGqOe-EPqm"
      },
      "execution_count": null,
      "outputs": []
    },
    {
      "cell_type": "code",
      "source": [
        "import datetime\n",
        "\n",
        "# Gestion des dates\n",
        "\n",
        "# colonnes comportant des dates\n",
        "cols_date = ['order_purchase_timestamp',\n",
        "             'order_approved_at',\n",
        "             'order_delivered_carrier_date',\n",
        "             'order_delivered_customer_date',\n",
        "             'order_estimated_delivery_date',\n",
        "             'review_creation_date',\n",
        "             'review_answer_timestamp',\n",
        "             'shipping_limit_date']\n",
        "\n",
        "# convert au bon Dtype et arrondi à la journée\n",
        "for col in cols_date:\n",
        "    df[col] = pd.to_datetime(df[col])\n",
        "    df[col] = df[col].dt.round(\"D\")\n"
      ],
      "metadata": {
        "id": "5WUB4DqJyMkW"
      },
      "execution_count": null,
      "outputs": []
    },
    {
      "cell_type": "markdown",
      "source": [
        "# Simulation: features RFM + reviews\n",
        "\n",
        "Nous nous concentrons d'abord sur le modèle choisi dans le notebook précédent."
      ],
      "metadata": {
        "id": "Vfzd9thfdQlK"
      }
    },
    {
      "cell_type": "markdown",
      "source": [
        "## Entrainement initial sur toute l'année 2017\n",
        "\n",
        "On entraine le premier modèle sur les données de l'année 2017, puis nous réentrainons itérativement le modèle en ajoutant une semaine de données afin de calculer l'ARI avec le premier modèle. L'ARI nous donne une idée de la stabilité du clustering."
      ],
      "metadata": {
        "id": "nWmwr6nydXXS"
      }
    },
    {
      "cell_type": "code",
      "source": [
        "# date début T0\n",
        "start = '01-01-2017'\n",
        "\n",
        "# date de fin T0\n",
        "end_T0 = '31-12-2017'"
      ],
      "metadata": {
        "id": "LVdsf-il1-6R"
      },
      "execution_count": null,
      "outputs": []
    },
    {
      "cell_type": "code",
      "source": [
        "# Dataset T0\n",
        "df_T0 = dataset_aggregate(df, start, end_T0)\n",
        "\n",
        "# ID client\n",
        "ID_T0 = df_T0[\"customer_unique_id\"]\n",
        "df_T0 = df_T0[[\"days_since_last_order\",\"number_orders\",\"total_amount\",\"average_review_score\"]]"
      ],
      "metadata": {
        "id": "3zc9EhIdeVuO"
      },
      "execution_count": null,
      "outputs": []
    },
    {
      "cell_type": "code",
      "source": [
        "# initiate Standard Scaler\n",
        "scaler_T0 = StandardScaler()\n",
        "\n",
        "# fit Standard Scaler T0\n",
        "scaler_T0.fit(df_T0)\n",
        "\n",
        "# transform Standard Scaler T0\n",
        "df_T0_scaled = scaler_T0.transform(df_T0)\n",
        "\n",
        "# initiate Modèle KMeans \n",
        "kmeans_T0 = KMeans(5, random_state=42)\n",
        "\n",
        "# fit KMeans T0\n",
        "kmeans_T0.fit(df_T0_scaled)\n",
        "\n",
        "# predict KMeans T0\n",
        "clusters_T0 = kmeans_T0.predict(df_T0_scaled)\n",
        "\n",
        "# reattribue les clusters et ID clients au DF\n",
        "df_T0['clusters_T0'] = clusters_T0\n",
        "df_T0['customer_unique_id'] = ID_T0"
      ],
      "metadata": {
        "id": "zOjkWHTPMhg6"
      },
      "execution_count": null,
      "outputs": []
    },
    {
      "cell_type": "code",
      "source": [
        "# DataFrame à append\n",
        "data = []\n",
        "df_ARI = pd.DataFrame(data, columns=['date_fin', 'adjusted_ARI', 'n_multiorders'])\n",
        "\n",
        "# Génère une liste de date par steps d'une semaine\n",
        "end_dates = pd.date_range(start=\"2018-01-01\",end=\"2018-04-01\", freq=\"W\").to_pydatetime().tolist()"
      ],
      "metadata": {
        "id": "QiRGaYiby97H"
      },
      "execution_count": null,
      "outputs": []
    },
    {
      "cell_type": "code",
      "source": [
        "# Intère sur les dates\n",
        "\n",
        "for date in end_dates:\n",
        "    # date de fin Tn\n",
        "    end_Tn = date\n",
        "\n",
        "    # Dataset T+n\n",
        "    df_Tn = dataset_aggregate(df, start, end_Tn)\n",
        "    ID_Tn = df_Tn[\"customer_unique_id\"]\n",
        "    df_Tn = df_Tn[[\"days_since_last_order\",\"number_orders\",\"total_amount\",\"average_review_score\"]]\n",
        "\n",
        "    # transform Standard Scaler T0 sur T+n\n",
        "    df_Tn_scaled = scaler_T0.transform(df_Tn)\n",
        "\n",
        "    # predict KMeans T0 sur T+n\n",
        "    clusters_Tn = kmeans_T0.predict(df_Tn_scaled)\n",
        "    df_Tn['clusters_Tn'] = clusters_Tn\n",
        "    df_Tn['customer_unique_id'] = ID_Tn\n",
        "\n",
        "    # join\n",
        "    df_final = df_T0[['customer_unique_id','clusters_T0']].merge(\n",
        "                      df_Tn[['customer_unique_id','clusters_Tn']], on='customer_unique_id', how='left')\n",
        "\n",
        "    # ARI T0 x T+n\n",
        "    ARI_adj = adjusted_rand_score(df_final['clusters_T0'], df_final['clusters_Tn'])\n",
        "    ARI = rand_score(df_final['clusters_T0'], df_final['clusters_Tn'])\n",
        "\n",
        "    # nombre de clients\n",
        "    n_clients = len(df_Tn)\n",
        "\n",
        "    # nombre de clients ayant effectué plusieurs commandes sur la periode\n",
        "    n_multiorders = len(df_Tn[df_Tn['number_orders'] > 1])\n",
        "\n",
        "    # append DataFrame\n",
        "    new_row = {'date_fin':end_Tn, 'ARI':ARI, 'adjusted_ARI':ARI_adj, 'n_clients':n_clients, 'n_multiorders':n_multiorders}\n",
        "\n",
        "    df_ARI = df_ARI.append(new_row, ignore_index=True)"
      ],
      "metadata": {
        "id": "yTgZcddaj79Q",
        "colab": {
          "base_uri": "https://localhost:8080/"
        },
        "outputId": "de4a8ac3-c19d-4ef3-e837-86c3808d69a9"
      },
      "execution_count": null,
      "outputs": [
        {
          "output_type": "stream",
          "name": "stderr",
          "text": [
            "/usr/local/lib/python3.7/dist-packages/ipykernel_launcher.py:17: SettingWithCopyWarning: \n",
            "A value is trying to be set on a copy of a slice from a DataFrame.\n",
            "Try using .loc[row_indexer,col_indexer] = value instead\n",
            "\n",
            "See the caveats in the documentation: https://pandas.pydata.org/pandas-docs/stable/user_guide/indexing.html#returning-a-view-versus-a-copy\n",
            "/usr/local/lib/python3.7/dist-packages/ipykernel_launcher.py:18: SettingWithCopyWarning: \n",
            "A value is trying to be set on a copy of a slice from a DataFrame.\n",
            "Try using .loc[row_indexer,col_indexer] = value instead\n",
            "\n",
            "See the caveats in the documentation: https://pandas.pydata.org/pandas-docs/stable/user_guide/indexing.html#returning-a-view-versus-a-copy\n",
            "/usr/local/lib/python3.7/dist-packages/ipykernel_launcher.py:17: SettingWithCopyWarning: \n",
            "A value is trying to be set on a copy of a slice from a DataFrame.\n",
            "Try using .loc[row_indexer,col_indexer] = value instead\n",
            "\n",
            "See the caveats in the documentation: https://pandas.pydata.org/pandas-docs/stable/user_guide/indexing.html#returning-a-view-versus-a-copy\n",
            "/usr/local/lib/python3.7/dist-packages/ipykernel_launcher.py:18: SettingWithCopyWarning: \n",
            "A value is trying to be set on a copy of a slice from a DataFrame.\n",
            "Try using .loc[row_indexer,col_indexer] = value instead\n",
            "\n",
            "See the caveats in the documentation: https://pandas.pydata.org/pandas-docs/stable/user_guide/indexing.html#returning-a-view-versus-a-copy\n"
          ]
        }
      ]
    },
    {
      "cell_type": "code",
      "source": [
        "df_ARI"
      ],
      "metadata": {
        "id": "-acT_gPE1QSy",
        "colab": {
          "base_uri": "https://localhost:8080/",
          "height": 457
        },
        "outputId": "7979b14e-f2c4-48ed-80b6-8640a97bdd6e"
      },
      "execution_count": null,
      "outputs": [
        {
          "output_type": "execute_result",
          "data": {
            "text/html": [
              "\n",
              "  <div id=\"df-9212915c-40ad-4795-9048-e11550639a49\">\n",
              "    <div class=\"colab-df-container\">\n",
              "      <div>\n",
              "<style scoped>\n",
              "    .dataframe tbody tr th:only-of-type {\n",
              "        vertical-align: middle;\n",
              "    }\n",
              "\n",
              "    .dataframe tbody tr th {\n",
              "        vertical-align: top;\n",
              "    }\n",
              "\n",
              "    .dataframe thead th {\n",
              "        text-align: right;\n",
              "    }\n",
              "</style>\n",
              "<table border=\"1\" class=\"dataframe\">\n",
              "  <thead>\n",
              "    <tr style=\"text-align: right;\">\n",
              "      <th></th>\n",
              "      <th>date_fin</th>\n",
              "      <th>adjusted_ARI</th>\n",
              "      <th>n_multiorders</th>\n",
              "      <th>ARI</th>\n",
              "      <th>n_clients</th>\n",
              "    </tr>\n",
              "  </thead>\n",
              "  <tbody>\n",
              "    <tr>\n",
              "      <th>0</th>\n",
              "      <td>2018-01-07</td>\n",
              "      <td>0.938025</td>\n",
              "      <td>1139</td>\n",
              "      <td>0.972175</td>\n",
              "      <td>41993.0</td>\n",
              "    </tr>\n",
              "    <tr>\n",
              "      <th>1</th>\n",
              "      <td>2018-01-14</td>\n",
              "      <td>0.876103</td>\n",
              "      <td>1180</td>\n",
              "      <td>0.944465</td>\n",
              "      <td>43598.0</td>\n",
              "    </tr>\n",
              "    <tr>\n",
              "      <th>2</th>\n",
              "      <td>2018-01-21</td>\n",
              "      <td>0.812913</td>\n",
              "      <td>1235</td>\n",
              "      <td>0.916195</td>\n",
              "      <td>45215.0</td>\n",
              "    </tr>\n",
              "    <tr>\n",
              "      <th>3</th>\n",
              "      <td>2018-01-28</td>\n",
              "      <td>0.759611</td>\n",
              "      <td>1282</td>\n",
              "      <td>0.892281</td>\n",
              "      <td>46683.0</td>\n",
              "    </tr>\n",
              "    <tr>\n",
              "      <th>4</th>\n",
              "      <td>2018-02-04</td>\n",
              "      <td>0.707712</td>\n",
              "      <td>1327</td>\n",
              "      <td>0.868822</td>\n",
              "      <td>48103.0</td>\n",
              "    </tr>\n",
              "    <tr>\n",
              "      <th>5</th>\n",
              "      <td>2018-02-11</td>\n",
              "      <td>0.660377</td>\n",
              "      <td>1381</td>\n",
              "      <td>0.847257</td>\n",
              "      <td>49576.0</td>\n",
              "    </tr>\n",
              "    <tr>\n",
              "      <th>6</th>\n",
              "      <td>2018-02-18</td>\n",
              "      <td>0.607421</td>\n",
              "      <td>1438</td>\n",
              "      <td>0.822797</td>\n",
              "      <td>51022.0</td>\n",
              "    </tr>\n",
              "    <tr>\n",
              "      <th>7</th>\n",
              "      <td>2018-02-25</td>\n",
              "      <td>0.562785</td>\n",
              "      <td>1497</td>\n",
              "      <td>0.801791</td>\n",
              "      <td>52607.0</td>\n",
              "    </tr>\n",
              "    <tr>\n",
              "      <th>8</th>\n",
              "      <td>2018-03-04</td>\n",
              "      <td>0.521177</td>\n",
              "      <td>1565</td>\n",
              "      <td>0.781785</td>\n",
              "      <td>54323.0</td>\n",
              "    </tr>\n",
              "    <tr>\n",
              "      <th>9</th>\n",
              "      <td>2018-03-11</td>\n",
              "      <td>0.483253</td>\n",
              "      <td>1614</td>\n",
              "      <td>0.763075</td>\n",
              "      <td>55826.0</td>\n",
              "    </tr>\n",
              "    <tr>\n",
              "      <th>10</th>\n",
              "      <td>2018-03-18</td>\n",
              "      <td>0.448186</td>\n",
              "      <td>1651</td>\n",
              "      <td>0.745220</td>\n",
              "      <td>57282.0</td>\n",
              "    </tr>\n",
              "    <tr>\n",
              "      <th>11</th>\n",
              "      <td>2018-03-25</td>\n",
              "      <td>0.414597</td>\n",
              "      <td>1698</td>\n",
              "      <td>0.727374</td>\n",
              "      <td>58875.0</td>\n",
              "    </tr>\n",
              "    <tr>\n",
              "      <th>12</th>\n",
              "      <td>2018-04-01</td>\n",
              "      <td>0.386918</td>\n",
              "      <td>1732</td>\n",
              "      <td>0.711910</td>\n",
              "      <td>60216.0</td>\n",
              "    </tr>\n",
              "  </tbody>\n",
              "</table>\n",
              "</div>\n",
              "      <button class=\"colab-df-convert\" onclick=\"convertToInteractive('df-9212915c-40ad-4795-9048-e11550639a49')\"\n",
              "              title=\"Convert this dataframe to an interactive table.\"\n",
              "              style=\"display:none;\">\n",
              "        \n",
              "  <svg xmlns=\"http://www.w3.org/2000/svg\" height=\"24px\"viewBox=\"0 0 24 24\"\n",
              "       width=\"24px\">\n",
              "    <path d=\"M0 0h24v24H0V0z\" fill=\"none\"/>\n",
              "    <path d=\"M18.56 5.44l.94 2.06.94-2.06 2.06-.94-2.06-.94-.94-2.06-.94 2.06-2.06.94zm-11 1L8.5 8.5l.94-2.06 2.06-.94-2.06-.94L8.5 2.5l-.94 2.06-2.06.94zm10 10l.94 2.06.94-2.06 2.06-.94-2.06-.94-.94-2.06-.94 2.06-2.06.94z\"/><path d=\"M17.41 7.96l-1.37-1.37c-.4-.4-.92-.59-1.43-.59-.52 0-1.04.2-1.43.59L10.3 9.45l-7.72 7.72c-.78.78-.78 2.05 0 2.83L4 21.41c.39.39.9.59 1.41.59.51 0 1.02-.2 1.41-.59l7.78-7.78 2.81-2.81c.8-.78.8-2.07 0-2.86zM5.41 20L4 18.59l7.72-7.72 1.47 1.35L5.41 20z\"/>\n",
              "  </svg>\n",
              "      </button>\n",
              "      \n",
              "  <style>\n",
              "    .colab-df-container {\n",
              "      display:flex;\n",
              "      flex-wrap:wrap;\n",
              "      gap: 12px;\n",
              "    }\n",
              "\n",
              "    .colab-df-convert {\n",
              "      background-color: #E8F0FE;\n",
              "      border: none;\n",
              "      border-radius: 50%;\n",
              "      cursor: pointer;\n",
              "      display: none;\n",
              "      fill: #1967D2;\n",
              "      height: 32px;\n",
              "      padding: 0 0 0 0;\n",
              "      width: 32px;\n",
              "    }\n",
              "\n",
              "    .colab-df-convert:hover {\n",
              "      background-color: #E2EBFA;\n",
              "      box-shadow: 0px 1px 2px rgba(60, 64, 67, 0.3), 0px 1px 3px 1px rgba(60, 64, 67, 0.15);\n",
              "      fill: #174EA6;\n",
              "    }\n",
              "\n",
              "    [theme=dark] .colab-df-convert {\n",
              "      background-color: #3B4455;\n",
              "      fill: #D2E3FC;\n",
              "    }\n",
              "\n",
              "    [theme=dark] .colab-df-convert:hover {\n",
              "      background-color: #434B5C;\n",
              "      box-shadow: 0px 1px 3px 1px rgba(0, 0, 0, 0.15);\n",
              "      filter: drop-shadow(0px 1px 2px rgba(0, 0, 0, 0.3));\n",
              "      fill: #FFFFFF;\n",
              "    }\n",
              "  </style>\n",
              "\n",
              "      <script>\n",
              "        const buttonEl =\n",
              "          document.querySelector('#df-9212915c-40ad-4795-9048-e11550639a49 button.colab-df-convert');\n",
              "        buttonEl.style.display =\n",
              "          google.colab.kernel.accessAllowed ? 'block' : 'none';\n",
              "\n",
              "        async function convertToInteractive(key) {\n",
              "          const element = document.querySelector('#df-9212915c-40ad-4795-9048-e11550639a49');\n",
              "          const dataTable =\n",
              "            await google.colab.kernel.invokeFunction('convertToInteractive',\n",
              "                                                     [key], {});\n",
              "          if (!dataTable) return;\n",
              "\n",
              "          const docLinkHtml = 'Like what you see? Visit the ' +\n",
              "            '<a target=\"_blank\" href=https://colab.research.google.com/notebooks/data_table.ipynb>data table notebook</a>'\n",
              "            + ' to learn more about interactive tables.';\n",
              "          element.innerHTML = '';\n",
              "          dataTable['output_type'] = 'display_data';\n",
              "          await google.colab.output.renderOutput(dataTable, element);\n",
              "          const docLink = document.createElement('div');\n",
              "          docLink.innerHTML = docLinkHtml;\n",
              "          element.appendChild(docLink);\n",
              "        }\n",
              "      </script>\n",
              "    </div>\n",
              "  </div>\n",
              "  "
            ],
            "text/plain": [
              "     date_fin  adjusted_ARI n_multiorders       ARI  n_clients\n",
              "0  2018-01-07      0.938025          1139  0.972175    41993.0\n",
              "1  2018-01-14      0.876103          1180  0.944465    43598.0\n",
              "2  2018-01-21      0.812913          1235  0.916195    45215.0\n",
              "3  2018-01-28      0.759611          1282  0.892281    46683.0\n",
              "4  2018-02-04      0.707712          1327  0.868822    48103.0\n",
              "5  2018-02-11      0.660377          1381  0.847257    49576.0\n",
              "6  2018-02-18      0.607421          1438  0.822797    51022.0\n",
              "7  2018-02-25      0.562785          1497  0.801791    52607.0\n",
              "8  2018-03-04      0.521177          1565  0.781785    54323.0\n",
              "9  2018-03-11      0.483253          1614  0.763075    55826.0\n",
              "10 2018-03-18      0.448186          1651  0.745220    57282.0\n",
              "11 2018-03-25      0.414597          1698  0.727374    58875.0\n",
              "12 2018-04-01      0.386918          1732  0.711910    60216.0"
            ]
          },
          "metadata": {},
          "execution_count": 11
        }
      ]
    },
    {
      "cell_type": "code",
      "source": [
        "sns.lineplot(x='date_fin', y='ARI', data=df_ARI)\n",
        "plt.xticks(rotation=45)"
      ],
      "metadata": {
        "id": "vPvBh1der7vu",
        "colab": {
          "base_uri": "https://localhost:8080/",
          "height": 429
        },
        "outputId": "0aa5977a-34fd-445a-c60f-3baedc9f0ff2"
      },
      "execution_count": null,
      "outputs": [
        {
          "output_type": "execute_result",
          "data": {
            "text/plain": [
              "(array([736709., 736726., 736740., 736754., 736768., 736785.]),\n",
              " <a list of 6 Text major ticklabel objects>)"
            ]
          },
          "metadata": {},
          "execution_count": 12
        },
        {
          "output_type": "display_data",
          "data": {
            "image/png": "[encoded data removed]",
            "text/plain": [
              "<Figure size 576x396 with 1 Axes>"
            ]
          },
          "metadata": {}
        }
      ]
    },
    {
      "cell_type": "code",
      "source": [
        "sns.lineplot(x='date_fin', y='adjusted_ARI', data=df_ARI)\n",
        "plt.xticks(rotation=45)"
      ],
      "metadata": {
        "id": "oOy2jmfWr7v2",
        "colab": {
          "base_uri": "https://localhost:8080/",
          "height": 429
        },
        "outputId": "8829cd64-3aa0-4795-9d49-26c5a1eddb7c"
      },
      "execution_count": null,
      "outputs": [
        {
          "output_type": "execute_result",
          "data": {
            "text/plain": [
              "(array([736709., 736726., 736740., 736754., 736768., 736785.]),\n",
              " <a list of 6 Text major ticklabel objects>)"
            ]
          },
          "metadata": {},
          "execution_count": 13
        },
        {
          "output_type": "display_data",
          "data": {
            "image/png": "[encoded data removed]",
            "text/plain": [
              "<Figure size 576x396 with 1 Axes>"
            ]
          },
          "metadata": {}
        }
      ]
    },
    {
      "cell_type": "code",
      "source": [
        "sns.lineplot(x='date_fin', y='n_multiorders', data=df_ARI)\n",
        "plt.xticks(rotation=45)"
      ],
      "metadata": {
        "id": "c0xpxgXZr7v2",
        "colab": {
          "base_uri": "https://localhost:8080/",
          "height": 429
        },
        "outputId": "1fb55a1e-55d2-43b3-e111-25e7dca94cdf"
      },
      "execution_count": null,
      "outputs": [
        {
          "output_type": "execute_result",
          "data": {
            "text/plain": [
              "(array([736709., 736726., 736740., 736754., 736768., 736785.]),\n",
              " <a list of 6 Text major ticklabel objects>)"
            ]
          },
          "metadata": {},
          "execution_count": 14
        },
        {
          "output_type": "display_data",
          "data": {
            "image/png": "[encoded data removed]",
            "text/plain": [
              "<Figure size 576x396 with 1 Axes>"
            ]
          },
          "metadata": {}
        }
      ]
    },
    {
      "cell_type": "code",
      "source": [
        "sns.lineplot(x='date_fin', y='n_clients', data=df_ARI)\n",
        "plt.xticks(rotation=45)"
      ],
      "metadata": {
        "id": "Ho21XzUCr7v2",
        "colab": {
          "base_uri": "https://localhost:8080/",
          "height": 429
        },
        "outputId": "bd205010-97ca-472c-ac51-5d51b85b87b9"
      },
      "execution_count": null,
      "outputs": [
        {
          "output_type": "execute_result",
          "data": {
            "text/plain": [
              "(array([736709., 736726., 736740., 736754., 736768., 736785.]),\n",
              " <a list of 6 Text major ticklabel objects>)"
            ]
          },
          "metadata": {},
          "execution_count": 15
        },
        {
          "output_type": "display_data",
          "data": {
            "image/png": "[encoded data removed]",
            "text/plain": [
              "<Figure size 576x396 with 1 Axes>"
            ]
          },
          "metadata": {}
        }
      ]
    },
    {
      "cell_type": "markdown",
      "source": [
        "L'ARI et l'ARI ajusté diminuent de manière linéaire au fil des semaines:\n",
        "- l'ARI passe sous le seuil de 0.8 après 2 mois et 3 semaines\n",
        "- l'ARI ajusté passe sous le seuil de 0.8 après un mois et deux semaines"
      ],
      "metadata": {
        "id": "gQUjHTMYYol1"
      }
    },
    {
      "cell_type": "markdown",
      "source": [
        "## Entrainement initial de Janvier 2017 à Avril 2018"
      ],
      "metadata": {
        "id": "mGoo9ixraInX"
      }
    },
    {
      "cell_type": "code",
      "source": [
        "# date début T0\n",
        "start = '01-01-2017'\n",
        "\n",
        "# date de fin T0\n",
        "end_T0 = '30-04-2018'"
      ],
      "metadata": {
        "id": "TC-Xi6DWaUPd"
      },
      "execution_count": null,
      "outputs": []
    },
    {
      "cell_type": "code",
      "source": [
        "# Dataset T0\n",
        "df_T0 = dataset_aggregate(df, start, end_T0)\n",
        "\n",
        "# ID client\n",
        "ID_T0 = df_T0[\"customer_unique_id\"]\n",
        "df_T0 = df_T0[[\"days_since_last_order\",\"number_orders\",\"total_amount\",\"average_review_score\"]]"
      ],
      "metadata": {
        "id": "PFwyQ5syaUPe"
      },
      "execution_count": null,
      "outputs": []
    },
    {
      "cell_type": "code",
      "source": [
        "# initiate Standard Scaler\n",
        "scaler_T0 = StandardScaler()\n",
        "\n",
        "# fit Standard Scaler T0\n",
        "scaler_T0.fit(df_T0)\n",
        "\n",
        "# transform Standard Scaler T0\n",
        "df_T0_scaled = scaler_T0.transform(df_T0)\n",
        "\n",
        "# initiate Modèle KMeans \n",
        "kmeans_T0 = KMeans(5, random_state=42)\n",
        "\n",
        "# fit KMeans T0\n",
        "kmeans_T0.fit(df_T0_scaled)\n",
        "\n",
        "# predict KMeans T0\n",
        "clusters_T0 = kmeans_T0.predict(df_T0_scaled)\n",
        "\n",
        "# reattribue les clusters et ID clients au DF\n",
        "df_T0['clusters_T0'] = clusters_T0\n",
        "df_T0['customer_unique_id'] = ID_T0"
      ],
      "metadata": {
        "id": "7rx92bC1aUPe"
      },
      "execution_count": null,
      "outputs": []
    },
    {
      "cell_type": "code",
      "source": [
        "# DataFrame à append\n",
        "data = []\n",
        "df_ARI = pd.DataFrame(data, columns=['date_fin', 'adjusted_ARI', 'n_multiorders'])\n",
        "\n",
        "# Génère une liste de date par steps d'une semaine\n",
        "end_dates = pd.date_range(start=\"2018-05-01\",end=\"2018-08-31\", freq=\"W\").to_pydatetime().tolist()"
      ],
      "metadata": {
        "id": "lBLzRRDaaUPf"
      },
      "execution_count": null,
      "outputs": []
    },
    {
      "cell_type": "code",
      "source": [
        "# Intère sur les dates\n",
        "\n",
        "for date in end_dates:\n",
        "    # date de fin Tn\n",
        "    end_Tn = date\n",
        "\n",
        "    # Dataset T+n\n",
        "    df_Tn = dataset_aggregate(df, start, end_Tn)\n",
        "    ID_Tn = df_Tn[\"customer_unique_id\"]\n",
        "    df_Tn = df_Tn[[\"days_since_last_order\",\"number_orders\",\"total_amount\",\"average_review_score\"]]\n",
        "\n",
        "    # transform Standard Scaler T0 sur T+n\n",
        "    df_Tn_scaled = scaler_T0.transform(df_Tn)\n",
        "\n",
        "    # predict KMeans T0 sur T+n\n",
        "    clusters_Tn = kmeans_T0.predict(df_Tn_scaled)\n",
        "    df_Tn['clusters_Tn'] = clusters_Tn\n",
        "    df_Tn['customer_unique_id'] = ID_Tn\n",
        "\n",
        "    # join\n",
        "    df_final = df_T0[['customer_unique_id','clusters_T0']].merge(\n",
        "                      df_Tn[['customer_unique_id','clusters_Tn']], on='customer_unique_id', how='left')\n",
        "\n",
        "    # ARI T0 x T+n\n",
        "    ARI_adj = adjusted_rand_score(df_final['clusters_T0'], df_final['clusters_Tn'])\n",
        "    ARI = rand_score(df_final['clusters_T0'], df_final['clusters_Tn'])\n",
        "\n",
        "    # nombre de clients\n",
        "    n_clients = len(df_Tn)\n",
        "\n",
        "    # nombre de clients ayant effectué plusieurs commandes sur la periode\n",
        "    n_multiorders = len(df_Tn[df_Tn['number_orders'] > 1])\n",
        "\n",
        "    # append DataFrame\n",
        "    new_row = {'date_fin':end_Tn, 'ARI':ARI, 'adjusted_ARI':ARI_adj, 'n_clients':n_clients, 'n_multiorders':n_multiorders}\n",
        "\n",
        "    df_ARI = df_ARI.append(new_row, ignore_index=True)"
      ],
      "metadata": {
        "id": "oI4vljM6aUPf",
        "colab": {
          "base_uri": "https://localhost:8080/"
        },
        "outputId": "6c2e5e07-244b-49e4-b33f-07905d5982a8"
      },
      "execution_count": null,
      "outputs": [
        {
          "output_type": "stream",
          "name": "stderr",
          "text": [
            "/usr/local/lib/python3.7/dist-packages/ipykernel_launcher.py:17: SettingWithCopyWarning: \n",
            "A value is trying to be set on a copy of a slice from a DataFrame.\n",
            "Try using .loc[row_indexer,col_indexer] = value instead\n",
            "\n",
            "See the caveats in the documentation: https://pandas.pydata.org/pandas-docs/stable/user_guide/indexing.html#returning-a-view-versus-a-copy\n",
            "/usr/local/lib/python3.7/dist-packages/ipykernel_launcher.py:18: SettingWithCopyWarning: \n",
            "A value is trying to be set on a copy of a slice from a DataFrame.\n",
            "Try using .loc[row_indexer,col_indexer] = value instead\n",
            "\n",
            "See the caveats in the documentation: https://pandas.pydata.org/pandas-docs/stable/user_guide/indexing.html#returning-a-view-versus-a-copy\n",
            "/usr/local/lib/python3.7/dist-packages/ipykernel_launcher.py:17: SettingWithCopyWarning: \n",
            "A value is trying to be set on a copy of a slice from a DataFrame.\n",
            "Try using .loc[row_indexer,col_indexer] = value instead\n",
            "\n",
            "See the caveats in the documentation: https://pandas.pydata.org/pandas-docs/stable/user_guide/indexing.html#returning-a-view-versus-a-copy\n",
            "/usr/local/lib/python3.7/dist-packages/ipykernel_launcher.py:18: SettingWithCopyWarning: \n",
            "A value is trying to be set on a copy of a slice from a DataFrame.\n",
            "Try using .loc[row_indexer,col_indexer] = value instead\n",
            "\n",
            "See the caveats in the documentation: https://pandas.pydata.org/pandas-docs/stable/user_guide/indexing.html#returning-a-view-versus-a-copy\n"
          ]
        }
      ]
    },
    {
      "cell_type": "code",
      "source": [
        "df_ARI"
      ],
      "metadata": {
        "id": "YUpX_aNWaUPf",
        "colab": {
          "base_uri": "https://localhost:8080/",
          "height": 582
        },
        "outputId": "2bab1485-940d-40af-9716-277d3f9e4cb9"
      },
      "execution_count": null,
      "outputs": [
        {
          "output_type": "execute_result",
          "data": {
            "text/html": [
              "\n",
              "  <div id=\"df-351e67c6-52d9-4a0f-a1fd-8459183d984c\">\n",
              "    <div class=\"colab-df-container\">\n",
              "      <div>\n",
              "<style scoped>\n",
              "    .dataframe tbody tr th:only-of-type {\n",
              "        vertical-align: middle;\n",
              "    }\n",
              "\n",
              "    .dataframe tbody tr th {\n",
              "        vertical-align: top;\n",
              "    }\n",
              "\n",
              "    .dataframe thead th {\n",
              "        text-align: right;\n",
              "    }\n",
              "</style>\n",
              "<table border=\"1\" class=\"dataframe\">\n",
              "  <thead>\n",
              "    <tr style=\"text-align: right;\">\n",
              "      <th></th>\n",
              "      <th>date_fin</th>\n",
              "      <th>adjusted_ARI</th>\n",
              "      <th>n_multiorders</th>\n",
              "      <th>ARI</th>\n",
              "      <th>n_clients</th>\n",
              "    </tr>\n",
              "  </thead>\n",
              "  <tbody>\n",
              "    <tr>\n",
              "      <th>0</th>\n",
              "      <td>2018-05-06</td>\n",
              "      <td>0.966717</td>\n",
              "      <td>1946</td>\n",
              "      <td>0.985178</td>\n",
              "      <td>67902.0</td>\n",
              "    </tr>\n",
              "    <tr>\n",
              "      <th>1</th>\n",
              "      <td>2018-05-13</td>\n",
              "      <td>0.926813</td>\n",
              "      <td>2008</td>\n",
              "      <td>0.967473</td>\n",
              "      <td>69733.0</td>\n",
              "    </tr>\n",
              "    <tr>\n",
              "      <th>2</th>\n",
              "      <td>2018-05-20</td>\n",
              "      <td>0.885305</td>\n",
              "      <td>2059</td>\n",
              "      <td>0.949108</td>\n",
              "      <td>71496.0</td>\n",
              "    </tr>\n",
              "    <tr>\n",
              "      <th>3</th>\n",
              "      <td>2018-05-27</td>\n",
              "      <td>0.849710</td>\n",
              "      <td>2097</td>\n",
              "      <td>0.933375</td>\n",
              "      <td>72428.0</td>\n",
              "    </tr>\n",
              "    <tr>\n",
              "      <th>4</th>\n",
              "      <td>2018-06-03</td>\n",
              "      <td>0.817271</td>\n",
              "      <td>2129</td>\n",
              "      <td>0.919026</td>\n",
              "      <td>73398.0</td>\n",
              "    </tr>\n",
              "    <tr>\n",
              "      <th>5</th>\n",
              "      <td>2018-06-10</td>\n",
              "      <td>0.777446</td>\n",
              "      <td>2187</td>\n",
              "      <td>0.901407</td>\n",
              "      <td>74734.0</td>\n",
              "    </tr>\n",
              "    <tr>\n",
              "      <th>6</th>\n",
              "      <td>2018-06-17</td>\n",
              "      <td>0.736124</td>\n",
              "      <td>2225</td>\n",
              "      <td>0.883060</td>\n",
              "      <td>76206.0</td>\n",
              "    </tr>\n",
              "    <tr>\n",
              "      <th>7</th>\n",
              "      <td>2018-06-24</td>\n",
              "      <td>0.675985</td>\n",
              "      <td>2271</td>\n",
              "      <td>0.856185</td>\n",
              "      <td>77527.0</td>\n",
              "    </tr>\n",
              "    <tr>\n",
              "      <th>8</th>\n",
              "      <td>2018-07-01</td>\n",
              "      <td>0.609456</td>\n",
              "      <td>2313</td>\n",
              "      <td>0.826002</td>\n",
              "      <td>78881.0</td>\n",
              "    </tr>\n",
              "    <tr>\n",
              "      <th>9</th>\n",
              "      <td>2018-07-08</td>\n",
              "      <td>0.566340</td>\n",
              "      <td>2347</td>\n",
              "      <td>0.806017</td>\n",
              "      <td>80045.0</td>\n",
              "    </tr>\n",
              "    <tr>\n",
              "      <th>10</th>\n",
              "      <td>2018-07-15</td>\n",
              "      <td>0.534228</td>\n",
              "      <td>2375</td>\n",
              "      <td>0.790818</td>\n",
              "      <td>80944.0</td>\n",
              "    </tr>\n",
              "    <tr>\n",
              "      <th>11</th>\n",
              "      <td>2018-07-22</td>\n",
              "      <td>0.508639</td>\n",
              "      <td>2438</td>\n",
              "      <td>0.778494</td>\n",
              "      <td>82444.0</td>\n",
              "    </tr>\n",
              "    <tr>\n",
              "      <th>12</th>\n",
              "      <td>2018-07-29</td>\n",
              "      <td>0.486823</td>\n",
              "      <td>2488</td>\n",
              "      <td>0.767815</td>\n",
              "      <td>83995.0</td>\n",
              "    </tr>\n",
              "    <tr>\n",
              "      <th>13</th>\n",
              "      <td>2018-08-05</td>\n",
              "      <td>0.459887</td>\n",
              "      <td>2541</td>\n",
              "      <td>0.754314</td>\n",
              "      <td>85839.0</td>\n",
              "    </tr>\n",
              "    <tr>\n",
              "      <th>14</th>\n",
              "      <td>2018-08-12</td>\n",
              "      <td>0.420883</td>\n",
              "      <td>2591</td>\n",
              "      <td>0.734072</td>\n",
              "      <td>87752.0</td>\n",
              "    </tr>\n",
              "    <tr>\n",
              "      <th>15</th>\n",
              "      <td>2018-08-19</td>\n",
              "      <td>0.390651</td>\n",
              "      <td>2640</td>\n",
              "      <td>0.717572</td>\n",
              "      <td>89497.0</td>\n",
              "    </tr>\n",
              "    <tr>\n",
              "      <th>16</th>\n",
              "      <td>2018-08-26</td>\n",
              "      <td>0.365093</td>\n",
              "      <td>2668</td>\n",
              "      <td>0.702788</td>\n",
              "      <td>90609.0</td>\n",
              "    </tr>\n",
              "  </tbody>\n",
              "</table>\n",
              "</div>\n",
              "      <button class=\"colab-df-convert\" onclick=\"convertToInteractive('df-351e67c6-52d9-4a0f-a1fd-8459183d984c')\"\n",
              "              title=\"Convert this dataframe to an interactive table.\"\n",
              "              style=\"display:none;\">\n",
              "        \n",
              "  <svg xmlns=\"http://www.w3.org/2000/svg\" height=\"24px\"viewBox=\"0 0 24 24\"\n",
              "       width=\"24px\">\n",
              "    <path d=\"M0 0h24v24H0V0z\" fill=\"none\"/>\n",
              "    <path d=\"M18.56 5.44l.94 2.06.94-2.06 2.06-.94-2.06-.94-.94-2.06-.94 2.06-2.06.94zm-11 1L8.5 8.5l.94-2.06 2.06-.94-2.06-.94L8.5 2.5l-.94 2.06-2.06.94zm10 10l.94 2.06.94-2.06 2.06-.94-2.06-.94-.94-2.06-.94 2.06-2.06.94z\"/><path d=\"M17.41 7.96l-1.37-1.37c-.4-.4-.92-.59-1.43-.59-.52 0-1.04.2-1.43.59L10.3 9.45l-7.72 7.72c-.78.78-.78 2.05 0 2.83L4 21.41c.39.39.9.59 1.41.59.51 0 1.02-.2 1.41-.59l7.78-7.78 2.81-2.81c.8-.78.8-2.07 0-2.86zM5.41 20L4 18.59l7.72-7.72 1.47 1.35L5.41 20z\"/>\n",
              "  </svg>\n",
              "      </button>\n",
              "      \n",
              "  <style>\n",
              "    .colab-df-container {\n",
              "      display:flex;\n",
              "      flex-wrap:wrap;\n",
              "      gap: 12px;\n",
              "    }\n",
              "\n",
              "    .colab-df-convert {\n",
              "      background-color: #E8F0FE;\n",
              "      border: none;\n",
              "      border-radius: 50%;\n",
              "      cursor: pointer;\n",
              "      display: none;\n",
              "      fill: #1967D2;\n",
              "      height: 32px;\n",
              "      padding: 0 0 0 0;\n",
              "      width: 32px;\n",
              "    }\n",
              "\n",
              "    .colab-df-convert:hover {\n",
              "      background-color: #E2EBFA;\n",
              "      box-shadow: 0px 1px 2px rgba(60, 64, 67, 0.3), 0px 1px 3px 1px rgba(60, 64, 67, 0.15);\n",
              "      fill: #174EA6;\n",
              "    }\n",
              "\n",
              "    [theme=dark] .colab-df-convert {\n",
              "      background-color: #3B4455;\n",
              "      fill: #D2E3FC;\n",
              "    }\n",
              "\n",
              "    [theme=dark] .colab-df-convert:hover {\n",
              "      background-color: #434B5C;\n",
              "      box-shadow: 0px 1px 3px 1px rgba(0, 0, 0, 0.15);\n",
              "      filter: drop-shadow(0px 1px 2px rgba(0, 0, 0, 0.3));\n",
              "      fill: #FFFFFF;\n",
              "    }\n",
              "  </style>\n",
              "\n",
              "      <script>\n",
              "        const buttonEl =\n",
              "          document.querySelector('#df-351e67c6-52d9-4a0f-a1fd-8459183d984c button.colab-df-convert');\n",
              "        buttonEl.style.display =\n",
              "          google.colab.kernel.accessAllowed ? 'block' : 'none';\n",
              "\n",
              "        async function convertToInteractive(key) {\n",
              "          const element = document.querySelector('#df-351e67c6-52d9-4a0f-a1fd-8459183d984c');\n",
              "          const dataTable =\n",
              "            await google.colab.kernel.invokeFunction('convertToInteractive',\n",
              "                                                     [key], {});\n",
              "          if (!dataTable) return;\n",
              "\n",
              "          const docLinkHtml = 'Like what you see? Visit the ' +\n",
              "            '<a target=\"_blank\" href=https://colab.research.google.com/notebooks/data_table.ipynb>data table notebook</a>'\n",
              "            + ' to learn more about interactive tables.';\n",
              "          element.innerHTML = '';\n",
              "          dataTable['output_type'] = 'display_data';\n",
              "          await google.colab.output.renderOutput(dataTable, element);\n",
              "          const docLink = document.createElement('div');\n",
              "          docLink.innerHTML = docLinkHtml;\n",
              "          element.appendChild(docLink);\n",
              "        }\n",
              "      </script>\n",
              "    </div>\n",
              "  </div>\n",
              "  "
            ],
            "text/plain": [
              "     date_fin  adjusted_ARI n_multiorders       ARI  n_clients\n",
              "0  2018-05-06      0.966717          1946  0.985178    67902.0\n",
              "1  2018-05-13      0.926813          2008  0.967473    69733.0\n",
              "2  2018-05-20      0.885305          2059  0.949108    71496.0\n",
              "3  2018-05-27      0.849710          2097  0.933375    72428.0\n",
              "4  2018-06-03      0.817271          2129  0.919026    73398.0\n",
              "5  2018-06-10      0.777446          2187  0.901407    74734.0\n",
              "6  2018-06-17      0.736124          2225  0.883060    76206.0\n",
              "7  2018-06-24      0.675985          2271  0.856185    77527.0\n",
              "8  2018-07-01      0.609456          2313  0.826002    78881.0\n",
              "9  2018-07-08      0.566340          2347  0.806017    80045.0\n",
              "10 2018-07-15      0.534228          2375  0.790818    80944.0\n",
              "11 2018-07-22      0.508639          2438  0.778494    82444.0\n",
              "12 2018-07-29      0.486823          2488  0.767815    83995.0\n",
              "13 2018-08-05      0.459887          2541  0.754314    85839.0\n",
              "14 2018-08-12      0.420883          2591  0.734072    87752.0\n",
              "15 2018-08-19      0.390651          2640  0.717572    89497.0\n",
              "16 2018-08-26      0.365093          2668  0.702788    90609.0"
            ]
          },
          "metadata": {},
          "execution_count": 21
        }
      ]
    },
    {
      "cell_type": "code",
      "source": [
        "sns.lineplot(x='date_fin', y='ARI', data=df_ARI)\n",
        "plt.xticks(rotation=45)"
      ],
      "metadata": {
        "id": "4OEd8sTQHTxo",
        "colab": {
          "base_uri": "https://localhost:8080/",
          "height": 429
        },
        "outputId": "94c93ebc-c3f6-4815-a46d-d45d087e519a"
      },
      "execution_count": null,
      "outputs": [
        {
          "output_type": "execute_result",
          "data": {
            "text/plain": [
              "(array([736815., 736829., 736846., 736860., 736876., 736890., 736907.,\n",
              "        736921.]), <a list of 8 Text major ticklabel objects>)"
            ]
          },
          "metadata": {},
          "execution_count": 22
        },
        {
          "output_type": "display_data",
          "data": {
            "image/png": "[encoded data removed]",
            "text/plain": [
              "<Figure size 576x396 with 1 Axes>"
            ]
          },
          "metadata": {}
        }
      ]
    },
    {
      "cell_type": "code",
      "source": [
        "sns.lineplot(x='date_fin', y='adjusted_ARI', data=df_ARI)\n",
        "plt.xticks(rotation=45)"
      ],
      "metadata": {
        "id": "sfxUJP6yHT0d",
        "colab": {
          "base_uri": "https://localhost:8080/",
          "height": 429
        },
        "outputId": "2563ef31-df07-43f2-93ef-f1c2b246157a"
      },
      "execution_count": null,
      "outputs": [
        {
          "output_type": "execute_result",
          "data": {
            "text/plain": [
              "(array([736815., 736829., 736846., 736860., 736876., 736890., 736907.,\n",
              "        736921.]), <a list of 8 Text major ticklabel objects>)"
            ]
          },
          "metadata": {},
          "execution_count": 23
        },
        {
          "output_type": "display_data",
          "data": {
            "image/png": "[encoded data removed]",
            "text/plain": [
              "<Figure size 576x396 with 1 Axes>"
            ]
          },
          "metadata": {}
        }
      ]
    },
    {
      "cell_type": "code",
      "source": [
        "sns.lineplot(x='date_fin', y='n_multiorders', data=df_ARI)\n",
        "plt.xticks(rotation=45)"
      ],
      "metadata": {
        "id": "OrqtBjIxHT3C",
        "colab": {
          "base_uri": "https://localhost:8080/",
          "height": 432
        },
        "outputId": "ed9b5958-30b3-466b-8206-cf9f78e66b4d"
      },
      "execution_count": null,
      "outputs": [
        {
          "output_type": "execute_result",
          "data": {
            "text/plain": [
              "(array([736815., 736829., 736846., 736860., 736876., 736890., 736907.,\n",
              "        736921.]), <a list of 8 Text major ticklabel objects>)"
            ]
          },
          "metadata": {},
          "execution_count": 24
        },
        {
          "output_type": "display_data",
          "data": {
            "image/png": "[encoded data removed]",
            "text/plain": [
              "<Figure size 576x396 with 1 Axes>"
            ]
          },
          "metadata": {}
        }
      ]
    },
    {
      "cell_type": "code",
      "source": [
        "sns.lineplot(x='date_fin', y='n_clients', data=df_ARI)\n",
        "plt.xticks(rotation=45)"
      ],
      "metadata": {
        "id": "IhZSbnclZBzz",
        "colab": {
          "base_uri": "https://localhost:8080/",
          "height": 429
        },
        "outputId": "a54e539a-3122-4f2e-9488-47e514363fe1"
      },
      "execution_count": null,
      "outputs": [
        {
          "output_type": "execute_result",
          "data": {
            "text/plain": [
              "(array([736815., 736829., 736846., 736860., 736876., 736890., 736907.,\n",
              "        736921.]), <a list of 8 Text major ticklabel objects>)"
            ]
          },
          "metadata": {},
          "execution_count": 25
        },
        {
          "output_type": "display_data",
          "data": {
            "image/png": "[encoded data removed]",
            "text/plain": [
              "<Figure size 576x396 with 1 Axes>"
            ]
          },
          "metadata": {}
        }
      ]
    },
    {
      "cell_type": "markdown",
      "source": [
        "L'ARI et l'ARI ajusté diminuent là encore de manière linéaire au fil des semaines:\n",
        "- l'ARI passe sous le seuil de 0.8 après 2 mois et 1 semaine\n",
        "- l'ARI ajusté passe sous le seuil de 0.8 après un mois et une semaine\n",
        "\n",
        "**-> Je conseillerais une fréquence de misa-à-jour de la segmentation de deux mois pour ce modèle**"
      ],
      "metadata": {
        "id": "vg4GiRu0ZkTM"
      }
    },
    {
      "cell_type": "markdown",
      "source": [
        "# Simulation: features RFM + reviews + distance + payment installments\n",
        "\n",
        "On répète la démarche sur le second modèle intégrant plus de features."
      ],
      "metadata": {
        "id": "3p5CX0HiclQJ"
      }
    },
    {
      "cell_type": "markdown",
      "source": [
        "## Entrainement initial de Janvier 2017 à Avril 2018"
      ],
      "metadata": {
        "id": "BxvwXTzqcj41"
      }
    },
    {
      "cell_type": "code",
      "source": [
        "# date début T0\n",
        "start = '01-01-2017'\n",
        "\n",
        "# date de fin T0\n",
        "end_T0 = '30-04-2018'"
      ],
      "metadata": {
        "id": "w_s1irQIcj41"
      },
      "execution_count": null,
      "outputs": []
    },
    {
      "cell_type": "code",
      "source": [
        ""
      ],
      "metadata": {
        "id": "fvsStBaGxinH"
      },
      "execution_count": null,
      "outputs": []
    },
    {
      "cell_type": "code",
      "source": [
        "# Dataset T0\n",
        "df_T0 = dataset_aggregate(df, start, end_T0)\n",
        "\n",
        "# ID client\n",
        "ID_T0 = df_T0[\"customer_unique_id\"]\n",
        "df_T0 = df_T0[[\"days_since_last_order\",\n",
        "                \"number_orders\",\n",
        "                \"total_amount\",\n",
        "                \"average_review_score\",\n",
        "                \"average_distance\",\n",
        "                \"average_payment_installments\",]]"
      ],
      "metadata": {
        "id": "GLMoj3K6cj42"
      },
      "execution_count": null,
      "outputs": []
    },
    {
      "cell_type": "code",
      "source": [
        "# initiate Standard Scaler\n",
        "scaler_T0 = StandardScaler()\n",
        "\n",
        "# fit Standard Scaler T0\n",
        "scaler_T0.fit(df_T0)\n",
        "\n",
        "# transform Standard Scaler T0\n",
        "df_T0_scaled = scaler_T0.transform(df_T0)\n",
        "\n",
        "# initiate Modèle KMeans \n",
        "kmeans_T0 = KMeans(7, random_state=42)\n",
        "\n",
        "# fit KMeans T0\n",
        "kmeans_T0.fit(df_T0_scaled)\n",
        "\n",
        "# predict KMeans T0\n",
        "clusters_T0 = kmeans_T0.predict(df_T0_scaled)\n",
        "\n",
        "# reattribue les clusters et ID clients au DF\n",
        "df_T0['clusters_T0'] = clusters_T0\n",
        "df_T0['customer_unique_id'] = ID_T0"
      ],
      "metadata": {
        "id": "jEtpzZtpcj42"
      },
      "execution_count": null,
      "outputs": []
    },
    {
      "cell_type": "code",
      "source": [
        "# DataFrame à append\n",
        "data = []\n",
        "df_ARI = pd.DataFrame(data, columns=['date_fin', 'adjusted_ARI', 'n_multiorders'])\n",
        "\n",
        "# Génère une liste de date par steps d'une semaine\n",
        "end_dates = pd.date_range(start=\"2018-05-01\",end=\"2018-08-31\", freq=\"W\").to_pydatetime().tolist()"
      ],
      "metadata": {
        "id": "gAW5j16Ucj42"
      },
      "execution_count": null,
      "outputs": []
    },
    {
      "cell_type": "code",
      "source": [
        "# Intère sur les dates\n",
        "\n",
        "for date in end_dates:\n",
        "    # date de fin Tn\n",
        "    end_Tn = date\n",
        "\n",
        "    # Dataset T+n\n",
        "    df_Tn = dataset_aggregate(df, start, end_Tn)\n",
        "    ID_Tn = df_Tn[\"customer_unique_id\"]\n",
        "    df_Tn = df_Tn[[\"days_since_last_order\",\n",
        "                \"number_orders\",\n",
        "                \"total_amount\",\n",
        "                \"average_review_score\",\n",
        "                \"average_distance\",\n",
        "                \"average_payment_installments\"]]\n",
        "\n",
        "    # transform Standard Scaler T0 sur T+n\n",
        "    df_Tn_scaled = scaler_T0.transform(df_Tn)\n",
        "\n",
        "    # predict KMeans T0 sur T+n\n",
        "    clusters_Tn = kmeans_T0.predict(df_Tn_scaled)\n",
        "    df_Tn['clusters_Tn'] = clusters_Tn\n",
        "    df_Tn['customer_unique_id'] = ID_Tn\n",
        "\n",
        "    # join\n",
        "    df_final = df_T0[['customer_unique_id','clusters_T0']].merge(\n",
        "                      df_Tn[['customer_unique_id','clusters_Tn']], on='customer_unique_id', how='left')\n",
        "\n",
        "    # ARI T0 x T+n\n",
        "    ARI_adj = adjusted_rand_score(df_final['clusters_T0'], df_final['clusters_Tn'])\n",
        "    ARI = rand_score(df_final['clusters_T0'], df_final['clusters_Tn'])\n",
        "\n",
        "    # nombre de clients\n",
        "    n_clients = len(df_Tn)\n",
        "\n",
        "    # nombre de clients ayant effectué plusieurs commandes sur la periode\n",
        "    n_multiorders = len(df_Tn[df_Tn['number_orders'] > 1])\n",
        "\n",
        "    # append DataFrame\n",
        "    new_row = {'date_fin':end_Tn, 'ARI':ARI, 'adjusted_ARI':ARI_adj, 'n_clients':n_clients, 'n_multiorders':n_multiorders}\n",
        "\n",
        "    df_ARI = df_ARI.append(new_row, ignore_index=True)"
      ],
      "metadata": {
        "colab": {
          "base_uri": "https://localhost:8080/"
        },
        "id": "fGc2nzblcj42",
        "outputId": "67d377ff-e583-481b-b919-7d1b23151b97"
      },
      "execution_count": null,
      "outputs": [
        {
          "output_type": "stream",
          "name": "stderr",
          "text": [
            "/usr/local/lib/python3.7/dist-packages/ipykernel_launcher.py:22: SettingWithCopyWarning: \n",
            "A value is trying to be set on a copy of a slice from a DataFrame.\n",
            "Try using .loc[row_indexer,col_indexer] = value instead\n",
            "\n",
            "See the caveats in the documentation: https://pandas.pydata.org/pandas-docs/stable/user_guide/indexing.html#returning-a-view-versus-a-copy\n",
            "/usr/local/lib/python3.7/dist-packages/ipykernel_launcher.py:23: SettingWithCopyWarning: \n",
            "A value is trying to be set on a copy of a slice from a DataFrame.\n",
            "Try using .loc[row_indexer,col_indexer] = value instead\n",
            "\n",
            "See the caveats in the documentation: https://pandas.pydata.org/pandas-docs/stable/user_guide/indexing.html#returning-a-view-versus-a-copy\n",
            "/usr/local/lib/python3.7/dist-packages/ipykernel_launcher.py:22: SettingWithCopyWarning: \n",
            "A value is trying to be set on a copy of a slice from a DataFrame.\n",
            "Try using .loc[row_indexer,col_indexer] = value instead\n",
            "\n",
            "See the caveats in the documentation: https://pandas.pydata.org/pandas-docs/stable/user_guide/indexing.html#returning-a-view-versus-a-copy\n",
            "/usr/local/lib/python3.7/dist-packages/ipykernel_launcher.py:23: SettingWithCopyWarning: \n",
            "A value is trying to be set on a copy of a slice from a DataFrame.\n",
            "Try using .loc[row_indexer,col_indexer] = value instead\n",
            "\n",
            "See the caveats in the documentation: https://pandas.pydata.org/pandas-docs/stable/user_guide/indexing.html#returning-a-view-versus-a-copy\n",
            "/usr/local/lib/python3.7/dist-packages/ipykernel_launcher.py:22: SettingWithCopyWarning: \n",
            "A value is trying to be set on a copy of a slice from a DataFrame.\n",
            "Try using .loc[row_indexer,col_indexer] = value instead\n",
            "\n",
            "See the caveats in the documentation: https://pandas.pydata.org/pandas-docs/stable/user_guide/indexing.html#returning-a-view-versus-a-copy\n",
            "/usr/local/lib/python3.7/dist-packages/ipykernel_launcher.py:23: SettingWithCopyWarning: \n",
            "A value is trying to be set on a copy of a slice from a DataFrame.\n",
            "Try using .loc[row_indexer,col_indexer] = value instead\n",
            "\n",
            "See the caveats in the documentation: https://pandas.pydata.org/pandas-docs/stable/user_guide/indexing.html#returning-a-view-versus-a-copy\n"
          ]
        }
      ]
    },
    {
      "cell_type": "code",
      "source": [
        "df_ARI"
      ],
      "metadata": {
        "colab": {
          "base_uri": "https://localhost:8080/"
        },
        "outputId": "b39e58d6-4c91-4a57-db5b-e6583bb45207",
        "id": "LAd_cy2tcj42"
      },
      "execution_count": null,
      "outputs": [
        {
          "output_type": "execute_result",
          "data": {
            "text/html": [
              "\n",
              "  <div id=\"df-c348000d-2f7b-4fcc-8a6d-9bf4c74023e6\">\n",
              "    <div class=\"colab-df-container\">\n",
              "      <div>\n",
              "<style scoped>\n",
              "    .dataframe tbody tr th:only-of-type {\n",
              "        vertical-align: middle;\n",
              "    }\n",
              "\n",
              "    .dataframe tbody tr th {\n",
              "        vertical-align: top;\n",
              "    }\n",
              "\n",
              "    .dataframe thead th {\n",
              "        text-align: right;\n",
              "    }\n",
              "</style>\n",
              "<table border=\"1\" class=\"dataframe\">\n",
              "  <thead>\n",
              "    <tr style=\"text-align: right;\">\n",
              "      <th></th>\n",
              "      <th>date_fin</th>\n",
              "      <th>adjusted_ARI</th>\n",
              "      <th>n_multiorders</th>\n",
              "      <th>ARI</th>\n",
              "      <th>n_clients</th>\n",
              "    </tr>\n",
              "  </thead>\n",
              "  <tbody>\n",
              "    <tr>\n",
              "      <th>0</th>\n",
              "      <td>2018-05-06</td>\n",
              "      <td>0.970553</td>\n",
              "      <td>1946</td>\n",
              "      <td>0.989610</td>\n",
              "      <td>67902.0</td>\n",
              "    </tr>\n",
              "    <tr>\n",
              "      <th>1</th>\n",
              "      <td>2018-05-13</td>\n",
              "      <td>0.935928</td>\n",
              "      <td>2008</td>\n",
              "      <td>0.977469</td>\n",
              "      <td>69733.0</td>\n",
              "    </tr>\n",
              "    <tr>\n",
              "      <th>2</th>\n",
              "      <td>2018-05-20</td>\n",
              "      <td>0.898954</td>\n",
              "      <td>2059</td>\n",
              "      <td>0.964556</td>\n",
              "      <td>71496.0</td>\n",
              "    </tr>\n",
              "    <tr>\n",
              "      <th>3</th>\n",
              "      <td>2018-05-27</td>\n",
              "      <td>0.867281</td>\n",
              "      <td>2097</td>\n",
              "      <td>0.953525</td>\n",
              "      <td>72428.0</td>\n",
              "    </tr>\n",
              "    <tr>\n",
              "      <th>4</th>\n",
              "      <td>2018-06-03</td>\n",
              "      <td>0.837686</td>\n",
              "      <td>2129</td>\n",
              "      <td>0.943208</td>\n",
              "      <td>73398.0</td>\n",
              "    </tr>\n",
              "    <tr>\n",
              "      <th>5</th>\n",
              "      <td>2018-06-10</td>\n",
              "      <td>0.803765</td>\n",
              "      <td>2187</td>\n",
              "      <td>0.931369</td>\n",
              "      <td>74734.0</td>\n",
              "    </tr>\n",
              "    <tr>\n",
              "      <th>6</th>\n",
              "      <td>2018-06-17</td>\n",
              "      <td>0.765161</td>\n",
              "      <td>2225</td>\n",
              "      <td>0.917820</td>\n",
              "      <td>76206.0</td>\n",
              "    </tr>\n",
              "    <tr>\n",
              "      <th>7</th>\n",
              "      <td>2018-06-24</td>\n",
              "      <td>0.716760</td>\n",
              "      <td>2271</td>\n",
              "      <td>0.900642</td>\n",
              "      <td>77527.0</td>\n",
              "    </tr>\n",
              "    <tr>\n",
              "      <th>8</th>\n",
              "      <td>2018-07-01</td>\n",
              "      <td>0.670046</td>\n",
              "      <td>2313</td>\n",
              "      <td>0.883724</td>\n",
              "      <td>78881.0</td>\n",
              "    </tr>\n",
              "    <tr>\n",
              "      <th>9</th>\n",
              "      <td>2018-07-08</td>\n",
              "      <td>0.632738</td>\n",
              "      <td>2347</td>\n",
              "      <td>0.869858</td>\n",
              "      <td>80045.0</td>\n",
              "    </tr>\n",
              "    <tr>\n",
              "      <th>10</th>\n",
              "      <td>2018-07-15</td>\n",
              "      <td>0.603519</td>\n",
              "      <td>2375</td>\n",
              "      <td>0.858639</td>\n",
              "      <td>80944.0</td>\n",
              "    </tr>\n",
              "    <tr>\n",
              "      <th>11</th>\n",
              "      <td>2018-07-22</td>\n",
              "      <td>0.580500</td>\n",
              "      <td>2438</td>\n",
              "      <td>0.849597</td>\n",
              "      <td>82444.0</td>\n",
              "    </tr>\n",
              "    <tr>\n",
              "      <th>12</th>\n",
              "      <td>2018-07-29</td>\n",
              "      <td>0.559671</td>\n",
              "      <td>2488</td>\n",
              "      <td>0.841241</td>\n",
              "      <td>83995.0</td>\n",
              "    </tr>\n",
              "    <tr>\n",
              "      <th>13</th>\n",
              "      <td>2018-08-05</td>\n",
              "      <td>0.534515</td>\n",
              "      <td>2541</td>\n",
              "      <td>0.830803</td>\n",
              "      <td>85839.0</td>\n",
              "    </tr>\n",
              "    <tr>\n",
              "      <th>14</th>\n",
              "      <td>2018-08-12</td>\n",
              "      <td>0.504655</td>\n",
              "      <td>2591</td>\n",
              "      <td>0.817783</td>\n",
              "      <td>87752.0</td>\n",
              "    </tr>\n",
              "    <tr>\n",
              "      <th>15</th>\n",
              "      <td>2018-08-19</td>\n",
              "      <td>0.478647</td>\n",
              "      <td>2640</td>\n",
              "      <td>0.805672</td>\n",
              "      <td>89497.0</td>\n",
              "    </tr>\n",
              "    <tr>\n",
              "      <th>16</th>\n",
              "      <td>2018-08-26</td>\n",
              "      <td>0.456653</td>\n",
              "      <td>2668</td>\n",
              "      <td>0.794661</td>\n",
              "      <td>90609.0</td>\n",
              "    </tr>\n",
              "  </tbody>\n",
              "</table>\n",
              "</div>\n",
              "      <button class=\"colab-df-convert\" onclick=\"convertToInteractive('df-c348000d-2f7b-4fcc-8a6d-9bf4c74023e6')\"\n",
              "              title=\"Convert this dataframe to an interactive table.\"\n",
              "              style=\"display:none;\">\n",
              "        \n",
              "  <svg xmlns=\"http://www.w3.org/2000/svg\" height=\"24px\"viewBox=\"0 0 24 24\"\n",
              "       width=\"24px\">\n",
              "    <path d=\"M0 0h24v24H0V0z\" fill=\"none\"/>\n",
              "    <path d=\"M18.56 5.44l.94 2.06.94-2.06 2.06-.94-2.06-.94-.94-2.06-.94 2.06-2.06.94zm-11 1L8.5 8.5l.94-2.06 2.06-.94-2.06-.94L8.5 2.5l-.94 2.06-2.06.94zm10 10l.94 2.06.94-2.06 2.06-.94-2.06-.94-.94-2.06-.94 2.06-2.06.94z\"/><path d=\"M17.41 7.96l-1.37-1.37c-.4-.4-.92-.59-1.43-.59-.52 0-1.04.2-1.43.59L10.3 9.45l-7.72 7.72c-.78.78-.78 2.05 0 2.83L4 21.41c.39.39.9.59 1.41.59.51 0 1.02-.2 1.41-.59l7.78-7.78 2.81-2.81c.8-.78.8-2.07 0-2.86zM5.41 20L4 18.59l7.72-7.72 1.47 1.35L5.41 20z\"/>\n",
              "  </svg>\n",
              "      </button>\n",
              "      \n",
              "  <style>\n",
              "    .colab-df-container {\n",
              "      display:flex;\n",
              "      flex-wrap:wrap;\n",
              "      gap: 12px;\n",
              "    }\n",
              "\n",
              "    .colab-df-convert {\n",
              "      background-color: #E8F0FE;\n",
              "      border: none;\n",
              "      border-radius: 50%;\n",
              "      cursor: pointer;\n",
              "      display: none;\n",
              "      fill: #1967D2;\n",
              "      height: 32px;\n",
              "      padding: 0 0 0 0;\n",
              "      width: 32px;\n",
              "    }\n",
              "\n",
              "    .colab-df-convert:hover {\n",
              "      background-color: #E2EBFA;\n",
              "      box-shadow: 0px 1px 2px rgba(60, 64, 67, 0.3), 0px 1px 3px 1px rgba(60, 64, 67, 0.15);\n",
              "      fill: #174EA6;\n",
              "    }\n",
              "\n",
              "    [theme=dark] .colab-df-convert {\n",
              "      background-color: #3B4455;\n",
              "      fill: #D2E3FC;\n",
              "    }\n",
              "\n",
              "    [theme=dark] .colab-df-convert:hover {\n",
              "      background-color: #434B5C;\n",
              "      box-shadow: 0px 1px 3px 1px rgba(0, 0, 0, 0.15);\n",
              "      filter: drop-shadow(0px 1px 2px rgba(0, 0, 0, 0.3));\n",
              "      fill: #FFFFFF;\n",
              "    }\n",
              "  </style>\n",
              "\n",
              "      <script>\n",
              "        const buttonEl =\n",
              "          document.querySelector('#df-c348000d-2f7b-4fcc-8a6d-9bf4c74023e6 button.colab-df-convert');\n",
              "        buttonEl.style.display =\n",
              "          google.colab.kernel.accessAllowed ? 'block' : 'none';\n",
              "\n",
              "        async function convertToInteractive(key) {\n",
              "          const element = document.querySelector('#df-c348000d-2f7b-4fcc-8a6d-9bf4c74023e6');\n",
              "          const dataTable =\n",
              "            await google.colab.kernel.invokeFunction('convertToInteractive',\n",
              "                                                     [key], {});\n",
              "          if (!dataTable) return;\n",
              "\n",
              "          const docLinkHtml = 'Like what you see? Visit the ' +\n",
              "            '<a target=\"_blank\" href=https://colab.research.google.com/notebooks/data_table.ipynb>data table notebook</a>'\n",
              "            + ' to learn more about interactive tables.';\n",
              "          element.innerHTML = '';\n",
              "          dataTable['output_type'] = 'display_data';\n",
              "          await google.colab.output.renderOutput(dataTable, element);\n",
              "          const docLink = document.createElement('div');\n",
              "          docLink.innerHTML = docLinkHtml;\n",
              "          element.appendChild(docLink);\n",
              "        }\n",
              "      </script>\n",
              "    </div>\n",
              "  </div>\n",
              "  "
            ],
            "text/plain": [
              "     date_fin  adjusted_ARI n_multiorders       ARI  n_clients\n",
              "0  2018-05-06      0.970553          1946  0.989610    67902.0\n",
              "1  2018-05-13      0.935928          2008  0.977469    69733.0\n",
              "2  2018-05-20      0.898954          2059  0.964556    71496.0\n",
              "3  2018-05-27      0.867281          2097  0.953525    72428.0\n",
              "4  2018-06-03      0.837686          2129  0.943208    73398.0\n",
              "5  2018-06-10      0.803765          2187  0.931369    74734.0\n",
              "6  2018-06-17      0.765161          2225  0.917820    76206.0\n",
              "7  2018-06-24      0.716760          2271  0.900642    77527.0\n",
              "8  2018-07-01      0.670046          2313  0.883724    78881.0\n",
              "9  2018-07-08      0.632738          2347  0.869858    80045.0\n",
              "10 2018-07-15      0.603519          2375  0.858639    80944.0\n",
              "11 2018-07-22      0.580500          2438  0.849597    82444.0\n",
              "12 2018-07-29      0.559671          2488  0.841241    83995.0\n",
              "13 2018-08-05      0.534515          2541  0.830803    85839.0\n",
              "14 2018-08-12      0.504655          2591  0.817783    87752.0\n",
              "15 2018-08-19      0.478647          2640  0.805672    89497.0\n",
              "16 2018-08-26      0.456653          2668  0.794661    90609.0"
            ]
          },
          "metadata": {},
          "execution_count": 36
        }
      ]
    },
    {
      "cell_type": "code",
      "source": [
        "sns.lineplot(x='date_fin', y='ARI', data=df_ARI)\n",
        "plt.xticks(rotation=45)"
      ],
      "metadata": {
        "colab": {
          "base_uri": "https://localhost:8080/"
        },
        "outputId": "d7777fd5-fe1e-4119-be61-d08c5666ecea",
        "id": "JpMqQCDlcj42"
      },
      "execution_count": null,
      "outputs": [
        {
          "output_type": "execute_result",
          "data": {
            "text/plain": [
              "(array([736815., 736829., 736846., 736860., 736876., 736890., 736907.,\n",
              "        736921.]), <a list of 8 Text major ticklabel objects>)"
            ]
          },
          "metadata": {},
          "execution_count": 37
        },
        {
          "output_type": "display_data",
          "data": {
            "image/png": "[encoded data removed]",
            "text/plain": [
              "<Figure size 576x396 with 1 Axes>"
            ]
          },
          "metadata": {}
        }
      ]
    },
    {
      "cell_type": "code",
      "source": [
        "sns.lineplot(x='date_fin', y='adjusted_ARI', data=df_ARI)\n",
        "plt.xticks(rotation=45)"
      ],
      "metadata": {
        "colab": {
          "base_uri": "https://localhost:8080/"
        },
        "outputId": "8f6cb46c-09f3-4c7c-ca57-ad94f3667442",
        "id": "i6MaZ3Bccj42"
      },
      "execution_count": null,
      "outputs": [
        {
          "output_type": "execute_result",
          "data": {
            "text/plain": [
              "(array([736815., 736829., 736846., 736860., 736876., 736890., 736907.,\n",
              "        736921.]), <a list of 8 Text major ticklabel objects>)"
            ]
          },
          "metadata": {},
          "execution_count": 38
        },
        {
          "output_type": "display_data",
          "data": {
            "image/png": "[encoded data removed]",
            "text/plain": [
              "<Figure size 576x396 with 1 Axes>"
            ]
          },
          "metadata": {}
        }
      ]
    },
    {
      "cell_type": "code",
      "source": [
        "sns.lineplot(x='date_fin', y='n_multiorders', data=df_ARI)\n",
        "plt.xticks(rotation=45)"
      ],
      "metadata": {
        "colab": {
          "base_uri": "https://localhost:8080/"
        },
        "outputId": "abd7c5bd-5383-458b-beb9-27e46e1d33e5",
        "id": "E2JoZvERcj43"
      },
      "execution_count": null,
      "outputs": [
        {
          "output_type": "execute_result",
          "data": {
            "text/plain": [
              "(array([736815., 736829., 736846., 736860., 736876., 736890., 736907.,\n",
              "        736921.]), <a list of 8 Text major ticklabel objects>)"
            ]
          },
          "metadata": {},
          "execution_count": 39
        },
        {
          "output_type": "display_data",
          "data": {
            "image/png": "[encoded data removed]",
            "text/plain": [
              "<Figure size 576x396 with 1 Axes>"
            ]
          },
          "metadata": {}
        }
      ]
    },
    {
      "cell_type": "code",
      "source": [
        "sns.lineplot(x='date_fin', y='n_clients', data=df_ARI)\n",
        "plt.xticks(rotation=45)"
      ],
      "metadata": {
        "colab": {
          "base_uri": "https://localhost:8080/"
        },
        "outputId": "df9433f8-b2e0-4ec3-8ac5-171123ff2524",
        "id": "8Q5kFEWbcj43"
      },
      "execution_count": null,
      "outputs": [
        {
          "output_type": "execute_result",
          "data": {
            "text/plain": [
              "(array([736815., 736829., 736846., 736860., 736876., 736890., 736907.,\n",
              "        736921.]), <a list of 8 Text major ticklabel objects>)"
            ]
          },
          "metadata": {},
          "execution_count": 40
        },
        {
          "output_type": "display_data",
          "data": {
            "image/png": "[encoded data removed]",
            "text/plain": [
              "<Figure size 576x396 with 1 Axes>"
            ]
          },
          "metadata": {}
        }
      ]
    },
    {
      "cell_type": "markdown",
      "source": [
        "L'ARI et l'ARI ajusté diminuent là encore de manière linéaire au fil des semaines:\n",
        "- l'ARI passe sous le seuil de 0.8 après 3 mois et 2 semaines\n",
        "- l'ARI ajusté passe sous le seuil de 0.8 après un mois et 3 semaines\n",
        "\n",
        "**-> Je conseillerais une fréquence de mise-à-jour de la segmentation de trois mois pour ce modèle**"
      ],
      "metadata": {
        "id": "giK4Vj_ubHzd"
      }
    }
  ]
}